{
 "cells": [
  {
   "cell_type": "markdown",
   "id": "ae130e4a",
   "metadata": {},
   "source": [
    "### Importing all libraries and packages"
   ]
  },
  {
   "cell_type": "code",
   "execution_count": 1,
   "id": "fc9f45ee",
   "metadata": {},
   "outputs": [
    {
     "data": {
      "text/plain": [
       "<module 'src.feature_levels' from 'c:\\\\Users\\\\user\\\\Forex_prediction\\\\src\\\\feature_levels.py'>"
      ]
     },
     "execution_count": 1,
     "metadata": {},
     "output_type": "execute_result"
    }
   ],
   "source": [
    "#--- setup and import\n",
    "import os, sys\n",
    "import numpy as np\n",
    "import pandas as pd\n",
    "from importlib import reload\n",
    "from datetime import time\n",
    "import matplotlib.pyplot as plt\n",
    "from importlib import reload\n",
    "\n",
    "sys.path.insert(0, os.path.abspath(\"..\"))\n",
    "\n",
    "root = os.path.abspath(\"..\")  # because your notebook is in /notebooks\n",
    "if root not in sys.path:\n",
    "    sys.path.append(root)\n",
    "\n",
    "import src.feature_time as FT\n",
    "import src.feature_volatility as FVOL\n",
    "import src.feature_levels as FLEV\n",
    "\n",
    "reload(FT)\n",
    "reload(FVOL)\n",
    "reload(FLEV)\n",
    "\n",
    "\n",
    "\n",
    "\n"
   ]
  },
  {
   "cell_type": "markdown",
   "id": "5990504f",
   "metadata": {},
   "source": [
    "### Read file and import tz-aware time features related to FX market"
   ]
  },
  {
   "cell_type": "code",
   "execution_count": 2,
   "id": "eb3695d9",
   "metadata": {},
   "outputs": [],
   "source": [
    "# --- Config ---\n",
    "CSV_PATH = \"../data/clean/EUR_USD_COMBINED_2021-2025_4years.csv\"   \n",
    "TS_COL   = \"Gmt time\"                              #\n",
    "USE_CYCLICAL = False                               # Importing date related data in cyclical format for better NN performance \n",
    "SAVE_FEATHER = \"../data/clean/minutes_features_pdf.feather\"\n"
   ]
  },
  {
   "cell_type": "code",
   "execution_count": 3,
   "id": "b9a98c65",
   "metadata": {},
   "outputs": [
    {
     "name": "stdout",
     "output_type": "stream",
     "text": [
      "Loaded: (1486245, 6)\n"
     ]
    },
    {
     "data": {
      "text/html": [
       "<div>\n",
       "<style scoped>\n",
       "    .dataframe tbody tr th:only-of-type {\n",
       "        vertical-align: middle;\n",
       "    }\n",
       "\n",
       "    .dataframe tbody tr th {\n",
       "        vertical-align: top;\n",
       "    }\n",
       "\n",
       "    .dataframe thead th {\n",
       "        text-align: right;\n",
       "    }\n",
       "</style>\n",
       "<table border=\"1\" class=\"dataframe\">\n",
       "  <thead>\n",
       "    <tr style=\"text-align: right;\">\n",
       "      <th></th>\n",
       "      <th>Gmt time</th>\n",
       "      <th>Open</th>\n",
       "      <th>High</th>\n",
       "      <th>Low</th>\n",
       "      <th>Close</th>\n",
       "      <th>Volume</th>\n",
       "    </tr>\n",
       "  </thead>\n",
       "  <tbody>\n",
       "    <tr>\n",
       "      <th>0</th>\n",
       "      <td>2021-08-16 00:00:00</td>\n",
       "      <td>1.17939</td>\n",
       "      <td>1.17957</td>\n",
       "      <td>1.17937</td>\n",
       "      <td>1.17957</td>\n",
       "      <td>52.95</td>\n",
       "    </tr>\n",
       "    <tr>\n",
       "      <th>1</th>\n",
       "      <td>2021-08-16 00:01:00</td>\n",
       "      <td>1.17958</td>\n",
       "      <td>1.17963</td>\n",
       "      <td>1.17953</td>\n",
       "      <td>1.17953</td>\n",
       "      <td>14.39</td>\n",
       "    </tr>\n",
       "    <tr>\n",
       "      <th>2</th>\n",
       "      <td>2021-08-16 00:02:00</td>\n",
       "      <td>1.17954</td>\n",
       "      <td>1.17954</td>\n",
       "      <td>1.17944</td>\n",
       "      <td>1.17944</td>\n",
       "      <td>17.46</td>\n",
       "    </tr>\n",
       "  </tbody>\n",
       "</table>\n",
       "</div>"
      ],
      "text/plain": [
       "              Gmt time     Open     High      Low    Close  Volume\n",
       "0  2021-08-16 00:00:00  1.17939  1.17957  1.17937  1.17957   52.95\n",
       "1  2021-08-16 00:01:00  1.17958  1.17963  1.17953  1.17953   14.39\n",
       "2  2021-08-16 00:02:00  1.17954  1.17954  1.17944  1.17944   17.46"
      ]
     },
     "execution_count": 3,
     "metadata": {},
     "output_type": "execute_result"
    }
   ],
   "source": [
    "# Loading the file\n",
    "# Currently data consists of 4 years of minute data for EUR/USD\n",
    "# and has GMT time OHLC and Volume columns\n",
    "df = pd.read_csv(CSV_PATH)\n",
    "print(\"Loaded:\", df.shape)\n",
    "df.head(3)\n"
   ]
  },
  {
   "cell_type": "code",
   "execution_count": 4,
   "id": "a86eef88",
   "metadata": {},
   "outputs": [
    {
     "name": "stdout",
     "output_type": "stream",
     "text": [
      "Dropped 0 rows (0.00%) due to NA/zero Volume\n",
      "Unique Volume values (sample): [52.95 14.39 17.46 16.03 12.33 28.38 32.48 28.08  9.   14.38 13.38 22.08\n",
      " 26.02 16.37 16.7  81.06 49.89 19.25 17.33 22.85]\n"
     ]
    }
   ],
   "source": [
    "df = pd.read_csv(CSV_PATH, parse_dates=[\"Gmt time\"])\n",
    "\n",
    "# force Volume to be numeric (coerce errors into NaN)\n",
    "df[\"Volume\"] = pd.to_numeric(df[\"Volume\"], errors=\"coerce\")\n",
    "\n",
    "# now drop NA/zero Volume\n",
    "before = len(df)\n",
    "df = df.dropna(subset=[\"Volume\"])\n",
    "df = df[df[\"Volume\"] > 0]\n",
    "after = len(df)\n",
    "### current version of data has no NA/zero Volume rows , removed while concatinating files\n",
    "print(f\"Dropped {before - after} rows ({100*(before-after)/before:.2f}%) due to NA/zero Volume\")\n",
    "\n",
    "# sanity check\n",
    "print(\"Unique Volume values (sample):\", df[\"Volume\"].unique()[:20])\n"
   ]
  },
  {
   "cell_type": "code",
   "execution_count": 5,
   "id": "455d9f34",
   "metadata": {},
   "outputs": [],
   "source": [
    "df = FT.add_ny_session_markers(\n",
    "    df,\n",
    "    dt_col=\"Gmt time\",\n",
    "    market_open_local=\"09:30\",### explicitly defining market open and close time for NY\n",
    "    market_close_local=\"16:00\",\n",
    "    warmup_minutes=30,\n",
    "    roll_weekends=True,   # <- important\n",
    ")\n"
   ]
  },
  {
   "cell_type": "code",
   "execution_count": 6,
   "id": "e4d85d20",
   "metadata": {},
   "outputs": [],
   "source": [
    "def _to_utc(series: pd.Series) -> pd.Series:\n",
    "    s = pd.to_datetime(series, utc=False, errors=\"coerce\")\n",
    "    # if tz-naive, assume it's already UTC; if tz-aware (e.g., America/New_York), convert to UTC\n",
    "    if getattr(s.dt, \"tz\", None) is None:\n",
    "        return s.dt.tz_localize(\"UTC\")\n",
    "    return s.dt.tz_convert(\"UTC\")\n"
   ]
  },
  {
   "cell_type": "markdown",
   "id": "d9733bd1",
   "metadata": {},
   "source": [
    "### Normalizing session markers\n",
    "\n",
    "Ensures session markers are present in UTC:\n",
    "Creates `dt_utc` if missing.  \n",
    "Converts NY-local open/close/warmup → UTC.\n",
    "Guarantees columns: `ny_open_utc`, `ny_warmup_end_utc`, `ny_close_utc`, `date_us_open`."
   ]
  },
  {
   "cell_type": "code",
   "execution_count": 7,
   "id": "66b1255e",
   "metadata": {},
   "outputs": [],
   "source": [
    "def normalize_session_markers(df_in: pd.DataFrame, dt_col: str = TS_COL, warmup_minutes: int = 30) -> pd.DataFrame:\n",
    "    d = df_in.copy()\n",
    "    # Ensure dt_utc\n",
    "    if \"dt_utc\" not in d.columns:\n",
    "        d[\"dt_utc\"] = pd.to_datetime(d[dt_col], utc=True)\n",
    "    # Build UTC markers from NY-local if missing\n",
    "    if \"ny_open_utc\" not in d.columns:\n",
    "        if \"ny_open_ny\" in d.columns:\n",
    "            d[\"ny_open_utc\"] = _to_utc(d[\"ny_open_ny\"])\n",
    "    if \"ny_close_utc\" not in d.columns:\n",
    "        if \"ny_close_ny\" in d.columns:\n",
    "            d[\"ny_close_utc\"] = _to_utc(d[\"ny_close_ny\"])\n",
    "    if \"ny_warmup_end_utc\" not in d.columns:\n",
    "        if \"ny_warmup_end_ny\" in d.columns:\n",
    "            d[\"ny_warmup_end_utc\"] = _to_utc(d[\"ny_warmup_end_ny\"])\n",
    "        elif \"ny_open_utc\" in d.columns:\n",
    "            d[\"ny_warmup_end_utc\"] = d[\"ny_open_utc\"] + pd.Timedelta(minutes=warmup_minutes)\n",
    "    # Final sanity: we must have these\n",
    "    needed = [\"ny_open_utc\",\"ny_warmup_end_utc\",\"ny_close_utc\",\"date_us_open\"]\n",
    "    missing = [c for c in needed if c not in d.columns]\n",
    "    if missing:\n",
    "        raise KeyError(f\"Missing session markers after normalization: {missing}\")\n",
    "    return d\n",
    "\n",
    "df = normalize_session_markers(df, dt_col=TS_COL, warmup_minutes=30)"
   ]
  },
  {
   "cell_type": "markdown",
   "id": "d20f2659",
   "metadata": {},
   "source": [
    "### Volatility flag via ATR\n",
    "Classifies each US day as volatile or not using ATR"
   ]
  },
  {
   "cell_type": "code",
   "execution_count": 8,
   "id": "e57c09f8",
   "metadata": {},
   "outputs": [
    {
     "name": "stdout",
     "output_type": "stream",
     "text": [
      "Volatile days ≈ 14.0% (k_atr=1.25)\n"
     ]
    }
   ],
   "source": [
    "# stricter or looser binary flag:\n",
    "df = FVOL.attach_volatility_score(\n",
    "    df,\n",
    "    dt_col=\"Gmt time\",\n",
    "    atr_lookback=14,\n",
    "    atr_method=\"sma\",   # or \"ema\"\n",
    "    k_atr=1.4,         # raise for stricter (fewer volatile days)\n",
    "    cap_lo=0.7, cap_hi=1.3\n",
    ")\n",
    "\n",
    "# sanity: share of volatile days\n",
    "pct = df.drop_duplicates(\"date_us_open\")[\"is_volatile\"].mean() * 100\n",
    "print(f\"Volatile days ≈ {pct:.1f}% (k_atr={1.25})\")"
   ]
  },
  {
   "cell_type": "code",
   "execution_count": 9,
   "id": "b4c33ad5",
   "metadata": {},
   "outputs": [],
   "source": [
    "\n",
    "reload(FLEV)\n",
    "\n",
    "df = FLEV.compute_levels(\n",
    "    df,\n",
    "    ts_col=\"Gmt time\",\n",
    "    vwap_mode=\"rolling_24h\",\n",
    "    vwap_alpha=0.25,\n",
    "    l1_use=True,\n",
    "    ib_k=1.30,                # ← push L1 further out\n",
    "    vol_score_col=\"vol_score\",\n",
    "    vol_scale_l1=True,\n",
    "    vol_scale_fv=False,\n",
    "    scale_mode=\"up_only\",     # ← only widen, never shrink on quiet days\n",
    ")\n"
   ]
  },
  {
   "cell_type": "code",
   "execution_count": 10,
   "id": "2b63c90a",
   "metadata": {},
   "outputs": [],
   "source": [
    "import matplotlib.pyplot as plt\n",
    "import pandas as pd\n",
    "\n",
    "def plot_levels_styled(\n",
    "    df: pd.DataFrame,\n",
    "    start_date=None, end_date=None, ndays=3,\n",
    "    tz: str = \"UTC\",\n",
    "    show_updates: bool = True,\n",
    "    show_price: bool = True,\n",
    "):\n",
    "    \"\"\"\n",
    "    Plot Close + ACTIVE levels with requested colors & FV gray fill.\n",
    "\n",
    "    Colors:\n",
    "      - FV boundaries: green\n",
    "      - L1 (outer): purple\n",
    "      - Midway (L1↔FV): blue\n",
    "      - FV zone (FV_low..FV_high): light gray fill\n",
    "      - FV mid & halves: green but faint (lower alpha)\n",
    "    \"\"\"\n",
    "\n",
    "    # --- window selection by US trading day ---\n",
    "    x = df.copy()\n",
    "    x[\"dt_utc\"] = pd.to_datetime(x[\"dt_utc\"], utc=True)\n",
    "\n",
    "    if start_date is not None:\n",
    "        start_date = pd.to_datetime(start_date).date()\n",
    "        if end_date is None:\n",
    "            end_date = (pd.to_datetime(start_date) + pd.Timedelta(days=ndays-1)).date()\n",
    "        else:\n",
    "            end_date = pd.to_datetime(end_date).date()\n",
    "        mask = (x[\"date_us_open\"] >= start_date) & (x[\"date_us_open\"] <= end_date)\n",
    "        x = x.loc[mask]\n",
    "        title_range = f\"{start_date} → {end_date}\"\n",
    "    else:\n",
    "        title_range = \"full range\"\n",
    "\n",
    "    if x.empty:\n",
    "        print(\"No data in selected window.\")\n",
    "        return\n",
    "\n",
    "    # --- x-axis timezone ---\n",
    "    xaxis = x[\"dt_utc\"].dt.tz_convert(\"America/New_York\") if tz == \"America/New_York\" else x[\"dt_utc\"]\n",
    "\n",
    "    # --- columns we need (ACTIVE variants so levels hold for the day) ---\n",
    "    need = [\n",
    "        \"FV_low_adj_active\",\"FV_mid_adj_active\",\"FV_high_adj_active\",\n",
    "        \"FV_half_dn_active\",\"FV_half_up_active\",\n",
    "        \"L1_dn_active\",\"L1_mid_dn_active\",\"L1_mid_up_active\",\"L1_up_active\",\n",
    "    ]\n",
    "    have = [c for c in need if c in x.columns]\n",
    "    missing = [c for c in need if c not in x.columns]\n",
    "    if len(have) < 3:\n",
    "        raise ValueError(f\"Missing active level columns: {missing}. Run compute_levels() first.\")\n",
    "\n",
    "    # --- plot ---\n",
    "    fig, ax = plt.subplots(figsize=(14,6))\n",
    "\n",
    "    # FV gray zone first (so everything else sits on top)\n",
    "    if {\"FV_low_adj_active\",\"FV_high_adj_active\"}.issubset(have):\n",
    "        ax.fill_between(\n",
    "            xaxis,\n",
    "            x[\"FV_low_adj_active\"],\n",
    "            x[\"FV_high_adj_active\"],\n",
    "            color=\"gray\", alpha=0.12, zorder=1, label=\"FV zone\"\n",
    "        )\n",
    "\n",
    "    # Price\n",
    "    if show_price and \"Close\" in x.columns:\n",
    "        ax.plot(xaxis, x[\"Close\"], color=\"black\", lw=1.0, label=\"Close\", zorder=3)\n",
    "\n",
    "    # FV boundaries (green, solid)\n",
    "    if \"FV_low_adj_active\" in have:\n",
    "        ax.plot(xaxis, x[\"FV_low_adj_active\"], color=\"green\", lw=1.4, label=\"FV_low\", zorder=4)\n",
    "    if \"FV_high_adj_active\" in have:\n",
    "        ax.plot(xaxis, x[\"FV_high_adj_active\"], color=\"green\", lw=1.4, label=\"FV_high\", zorder=4)\n",
    "\n",
    "    # FV mid & halves (fainter green)\n",
    "    if \"FV_mid_adj_active\" in have:\n",
    "        ax.plot(xaxis, x[\"FV_mid_adj_active\"], color=\"green\", alpha=0.35, lw=1.1, label=\"FV_mid\", zorder=4)\n",
    "    if \"FV_half_dn_active\" in have:\n",
    "        ax.plot(xaxis, x[\"FV_half_dn_active\"], color=\"green\", alpha=0.25, lw=1.0, label=\"FV_half_dn\", zorder=4)\n",
    "    if \"FV_half_up_active\" in have:\n",
    "        ax.plot(xaxis, x[\"FV_half_up_active\"], color=\"green\", alpha=0.25, lw=1.0, label=\"FV_half_up\", zorder=4)\n",
    "\n",
    "    # L1 outer (purple)\n",
    "    if \"L1_dn_active\" in have:\n",
    "        ax.plot(xaxis, x[\"L1_dn_active\"], color=\"purple\", lw=1.3, label=\"L1_dn\", zorder=4)\n",
    "    if \"L1_up_active\" in have:\n",
    "        ax.plot(xaxis, x[\"L1_up_active\"], color=\"purple\", lw=1.3, label=\"L1_up\", zorder=4)\n",
    "\n",
    "    # Midway lines between L1 and FV (blue)\n",
    "    if \"L1_mid_dn_active\" in have:\n",
    "        ax.plot(xaxis, x[\"L1_mid_dn_active\"], color=\"blue\", lw=1.1, label=\"Mid_dn (L1↔FV)\", zorder=4)\n",
    "    if \"L1_mid_up_active\" in have:\n",
    "        ax.plot(xaxis, x[\"L1_mid_up_active\"], color=\"blue\", lw=1.1, label=\"Mid_up (L1↔FV)\", zorder=4)\n",
    "\n",
    "    # Optional: vertical update markers at warmup end\n",
    "    if show_updates and \"ny_warmup_end_utc\" in x.columns:\n",
    "        ups = (x[[\"date_us_open\",\"ny_warmup_end_utc\"]]\n",
    "               .drop_duplicates(\"date_us_open\")\n",
    "               .sort_values(\"date_us_open\"))\n",
    "        ups_x = ups[\"ny_warmup_end_utc\"].dt.tz_convert(\"America/New_York\") if tz==\"America/New_York\" else ups[\"ny_warmup_end_utc\"]\n",
    "        for t in ups_x:\n",
    "            ax.axvline(t, color=\"gray\", alpha=0.35, lw=0.8, linestyle=\"--\", zorder=2)\n",
    "\n",
    "    ax.set_title(f\"Price + Levels ({title_range}, shown in {tz})\")\n",
    "    ax.set_ylabel(\"Price\")\n",
    "    ax.grid(True, alpha=0.25)\n",
    "\n",
    "    # dedupe legend labels\n",
    "    handles, labels = ax.get_legend_handles_labels()\n",
    "    seen, h2, l2 = set(), [], []\n",
    "    for h, l in zip(handles, labels):\n",
    "        if l not in seen:\n",
    "            seen.add(l); h2.append(h); l2.append(l)\n",
    "    ax.legend(h2, l2, loc=\"upper left\", ncol=3, fontsize=8)\n",
    "\n",
    "    plt.show()\n"
   ]
  },
  {
   "cell_type": "code",
   "execution_count": 11,
   "id": "1e745643",
   "metadata": {},
   "outputs": [
    {
     "data": {
      "image/png": "[encoded data removed]",
      "text/plain": [
       "<Figure size 1400x600 with 1 Axes>"
      ]
     },
     "metadata": {},
     "output_type": "display_data"
    }
   ],
   "source": [
    "# 3 days starting Aug 21, 2021 (UTC x-axis)\n",
    "plot_levels_styled(df, start_date=\"2025-08-14\", ndays=2, tz=\"UTC\")\n",
    "\n",
    "\n"
   ]
  },
  {
   "cell_type": "code",
   "execution_count": null,
   "id": "aeaadd29",
   "metadata": {},
   "outputs": [],
   "source": []
  },
  {
   "cell_type": "markdown",
   "id": "e6acbb4b",
   "metadata": {},
   "source": [
    "### Backtest"
   ]
  },
  {
   "cell_type": "markdown",
   "id": "5f330196",
   "metadata": {},
   "source": [
    "### BAcktest 2"
   ]
  },
  {
   "cell_type": "markdown",
   "id": "9b6d7d2e",
   "metadata": {},
   "source": [
    "# MACHINE LEARNING MODEL"
   ]
  }
 ],
 "metadata": {
  "kernelspec": {
   "display_name": "Python 3",
   "language": "python",
   "name": "python3"
  },
  "language_info": {
   "codemirror_mode": {
    "name": "ipython",
    "version": 3
   },
   "file_extension": ".py",
   "mimetype": "text/x-python",
   "name": "python",
   "nbconvert_exporter": "python",
   "pygments_lexer": "ipython3",
   "version": "3.13.7"
  }
 },
 "nbformat": 4,
 "nbformat_minor": 5
}
